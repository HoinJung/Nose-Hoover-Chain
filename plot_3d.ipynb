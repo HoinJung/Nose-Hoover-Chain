{
 "cells": [
  {
   "cell_type": "code",
   "execution_count": 1,
   "metadata": {
    "scrolled": true
   },
   "outputs": [],
   "source": [
    "import numpy as np\n",
    "import matplotlib.pyplot as plt\n",
    "import matplotlib\n",
    "import mpl_toolkits.mplot3d.axes3d as p3\n",
    "import matplotlib.animation as animation\n",
    "matplotlib.use('TkAgg')\n",
    "import pandas as pd\n",
    "\n",
    "%matplotlib qt\n",
    "\n",
    "# define time-series line to make trajectory\n",
    "def update_lines(num, dataLines, lines):\n",
    "    for line, data in zip(lines, dataLines):\n",
    "        # NOTE: there is no .set_data() for 3 dim data...\n",
    "        line.set_data(data[0:2, :num])\n",
    "        line.set_3d_properties(data[2, :num])\n",
    "    return lines\n",
    "# call dataframe of coordinates \n",
    "trj_df = pd.read_csv(\"./result/coord_result_q1.0.csv\")\n",
    "# change dataframe to array\n",
    "trj = trj_df.values\n",
    "# define number of steps (in this case, 10000 Steps are executed with saving frequency 10)\n",
    "N_step=1000\n",
    "# number of particles\n",
    "N_particles = 729\n",
    "# initializaing list\n",
    "coord_list = []\n",
    "# align coordinates of particles for all step to make a trajectory\n",
    "for idx in range(1,N_particles) :\n",
    "    x_arr = []\n",
    "    y_arr = []\n",
    "    z_arr = []\n",
    "    for i in range(0,N_step):\n",
    "        temp_x = trj[idx,i*3+1]\n",
    "        temp_y = trj[idx,i*3+2]\n",
    "        temp_z = trj[idx,i*3+3]\n",
    "        x_arr.append(temp_x)\n",
    "        y_arr.append(temp_y)\n",
    "        z_arr.append(temp_z)\n",
    "    x = np.array(x_arr, dtype=np.float64)\n",
    "    y = np.array(y_arr, dtype=np.float64)\n",
    "    z = np.array(z_arr, dtype=np.float64)\n",
    "        \n",
    "        \n",
    "    coord_list.append(np.array([x,y,z]))"
   ]
  },
  {
   "cell_type": "code",
   "execution_count": 3,
   "metadata": {},
   "outputs": [],
   "source": [
    "# initialize figure\n",
    "fig = plt.figure()\n",
    "ax = p3.Axes3D(fig)\n",
    "\n",
    "# make trajectory lines\n",
    "lines = [ax.plot(dat[0, 0:1], dat[1, 0:1], dat[2, 0:1],'.',markersize=9)[0] for dat in coord_list]\n",
    "\n",
    "# Setting the axes properties\n",
    "ax.set_xlim3d([0, 10])\n",
    "ax.set_xlabel('X')\n",
    "\n",
    "ax.set_ylim3d([0, 10])\n",
    "ax.set_ylabel('Y')\n",
    "\n",
    "ax.set_zlim3d([0, 10])\n",
    "ax.set_zlabel('Z')\n",
    "\n",
    "ax.set_title('3D Trajectory for NVT-NHC (Q=1.0)')\n",
    "\n",
    "# Creating the Animation object\n",
    "line_ani = animation.FuncAnimation(fig, update_lines, N_step, fargs=(coord_list, lines),\n",
    "                                   interval=0.001, blit=False)\n",
    "\n",
    "plt.show()"
   ]
  }
 ],
 "metadata": {
  "kernelspec": {
   "display_name": "Python 3",
   "language": "python",
   "name": "python3"
  },
  "language_info": {
   "codemirror_mode": {
    "name": "ipython",
    "version": 3
   },
   "file_extension": ".py",
   "mimetype": "text/x-python",
   "name": "python",
   "nbconvert_exporter": "python",
   "pygments_lexer": "ipython3",
   "version": "3.8.3"
  }
 },
 "nbformat": 4,
 "nbformat_minor": 4
}
